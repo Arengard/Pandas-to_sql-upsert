{
 "cells": [
  {
   "cell_type": "code",
   "execution_count": 1,
   "metadata": {
    "collapsed": true
   },
   "outputs": [],
   "source": [
    "import os\n",
    "import pandas as pd\n",
    "import numpy as np\n",
    "from sqlalchemy import create_engine\n",
    "import sqlite3 as db"
   ]
  },
  {
   "cell_type": "code",
   "execution_count": 2,
   "metadata": {
    "collapsed": false
   },
   "outputs": [
    {
     "data": {
      "text/html": [
       "<div>\n",
       "<table border=\"1\" class=\"dataframe\">\n",
       "  <thead>\n",
       "    <tr style=\"text-align: right;\">\n",
       "      <th></th>\n",
       "      <th>act_startDate</th>\n",
       "      <th>timestamp</th>\n",
       "      <th>time</th>\n",
       "      <th>act_id</th>\n",
       "      <th>act_name</th>\n",
       "      <th>distance</th>\n",
       "      <th>altitude</th>\n",
       "      <th>velocity_smooth</th>\n",
       "      <th>moving</th>\n",
       "      <th>grade_smooth</th>\n",
       "      <th>timestamp2</th>\n",
       "      <th>lat</th>\n",
       "      <th>long</th>\n",
       "    </tr>\n",
       "  </thead>\n",
       "  <tbody>\n",
       "    <tr>\n",
       "      <th>0</th>\n",
       "      <td>2015-06-28 11:36:16</td>\n",
       "      <td>2015-06-28 11:36:16+00:00</td>\n",
       "      <td>0</td>\n",
       "      <td>334723309</td>\n",
       "      <td>Morning Ride</td>\n",
       "      <td>0.0</td>\n",
       "      <td>180.2</td>\n",
       "      <td>0.0</td>\n",
       "      <td>False</td>\n",
       "      <td>0.0</td>\n",
       "      <td>2015-06-28 11:36:16</td>\n",
       "      <td>44.615305</td>\n",
       "      <td>-88.039688</td>\n",
       "    </tr>\n",
       "  </tbody>\n",
       "</table>\n",
       "</div>"
      ],
      "text/plain": [
       "         act_startDate                  timestamp  time     act_id  \\\n",
       "0  2015-06-28 11:36:16  2015-06-28 11:36:16+00:00     0  334723309   \n",
       "\n",
       "       act_name  distance  altitude  velocity_smooth moving  grade_smooth  \\\n",
       "0  Morning Ride       0.0     180.2              0.0  False           0.0   \n",
       "\n",
       "            timestamp2        lat       long  \n",
       "0  2015-06-28 11:36:16  44.615305 -88.039688  "
      ]
     },
     "execution_count": 2,
     "metadata": {},
     "output_type": "execute_result"
    }
   ],
   "source": [
    "#Get sample data\n",
    "df = pd.read_csv(r'C:\\Projects\\Strava\\RideData_20150628145227.csv')\n",
    "df.head(1)"
   ]
  },
  {
   "cell_type": "code",
   "execution_count": 3,
   "metadata": {
    "collapsed": false
   },
   "outputs": [],
   "source": [
    "#Create our test database for upserts\n",
    "conn = db.connect('test_upsert.db')\n",
    "engine = create_engine(r'sqlite:///test_upsert.db')"
   ]
  },
  {
   "cell_type": "code",
   "execution_count": 4,
   "metadata": {
    "collapsed": true
   },
   "outputs": [],
   "source": [
    "#Create a table using pandas to_sql\n",
    "df.to_sql('test_upsert', engine, if_exists='append')"
   ]
  },
  {
   "cell_type": "code",
   "execution_count": 5,
   "metadata": {
    "collapsed": false
   },
   "outputs": [
    {
     "data": {
      "text/html": [
       "<div>\n",
       "<table border=\"1\" class=\"dataframe\">\n",
       "  <thead>\n",
       "    <tr style=\"text-align: right;\">\n",
       "      <th></th>\n",
       "      <th>index</th>\n",
       "      <th>act_startDate</th>\n",
       "      <th>timestamp</th>\n",
       "      <th>time</th>\n",
       "      <th>act_id</th>\n",
       "      <th>act_name</th>\n",
       "      <th>distance</th>\n",
       "      <th>altitude</th>\n",
       "      <th>velocity_smooth</th>\n",
       "      <th>moving</th>\n",
       "      <th>grade_smooth</th>\n",
       "      <th>timestamp2</th>\n",
       "      <th>lat</th>\n",
       "      <th>long</th>\n",
       "    </tr>\n",
       "  </thead>\n",
       "  <tbody>\n",
       "    <tr>\n",
       "      <th>0</th>\n",
       "      <td>0</td>\n",
       "      <td>2015-06-28 11:36:16</td>\n",
       "      <td>2015-06-28 11:36:16+00:00</td>\n",
       "      <td>0</td>\n",
       "      <td>334723309</td>\n",
       "      <td>Morning Ride</td>\n",
       "      <td>0.0</td>\n",
       "      <td>180.2</td>\n",
       "      <td>0.0</td>\n",
       "      <td>0</td>\n",
       "      <td>0.0</td>\n",
       "      <td>2015-06-28 11:36:16</td>\n",
       "      <td>44.615305</td>\n",
       "      <td>-88.039688</td>\n",
       "    </tr>\n",
       "  </tbody>\n",
       "</table>\n",
       "</div>"
      ],
      "text/plain": [
       "   index        act_startDate                  timestamp  time     act_id  \\\n",
       "0      0  2015-06-28 11:36:16  2015-06-28 11:36:16+00:00     0  334723309   \n",
       "\n",
       "       act_name  distance  altitude  velocity_smooth  moving  grade_smooth  \\\n",
       "0  Morning Ride       0.0     180.2              0.0       0           0.0   \n",
       "\n",
       "            timestamp2        lat       long  \n",
       "0  2015-06-28 11:36:16  44.615305 -88.039688  "
      ]
     },
     "execution_count": 5,
     "metadata": {},
     "output_type": "execute_result"
    }
   ],
   "source": [
    "#Check that the table exists and there is data in it\n",
    "df_in_db = pd.read_sql_query('SELECT * FROM test_upsert', engine)\n",
    "df_in_db.head(1)"
   ]
  },
  {
   "cell_type": "code",
   "execution_count": 6,
   "metadata": {
    "collapsed": false
   },
   "outputs": [
    {
     "data": {
      "text/html": [
       "<div>\n",
       "<table border=\"1\" class=\"dataframe\">\n",
       "  <thead>\n",
       "    <tr style=\"text-align: right;\">\n",
       "      <th></th>\n",
       "      <th>act_id</th>\n",
       "      <th>act_name</th>\n",
       "      <th>act_startDate</th>\n",
       "      <th>altitude</th>\n",
       "      <th>distance</th>\n",
       "      <th>grade_smooth</th>\n",
       "      <th>lat</th>\n",
       "      <th>long</th>\n",
       "      <th>moving</th>\n",
       "      <th>time</th>\n",
       "      <th>timestamp</th>\n",
       "      <th>timestamp2</th>\n",
       "      <th>velocity_smooth</th>\n",
       "    </tr>\n",
       "  </thead>\n",
       "  <tbody>\n",
       "    <tr>\n",
       "      <th>0</th>\n",
       "      <td>334723309</td>\n",
       "      <td>Morning Ride</td>\n",
       "      <td>2015-06-28 11:36:16</td>\n",
       "      <td>180.2</td>\n",
       "      <td>0.0</td>\n",
       "      <td>0.0</td>\n",
       "      <td>44.615305</td>\n",
       "      <td>-88.039688</td>\n",
       "      <td>False</td>\n",
       "      <td>0</td>\n",
       "      <td>2015-06-28 11:36:16+00:00</td>\n",
       "      <td>2015-06-28 11:36:16</td>\n",
       "      <td>0.0</td>\n",
       "    </tr>\n",
       "  </tbody>\n",
       "</table>\n",
       "</div>"
      ],
      "text/plain": [
       "      act_id      act_name        act_startDate  altitude  distance  \\\n",
       "0  334723309  Morning Ride  2015-06-28 11:36:16     180.2       0.0   \n",
       "\n",
       "   grade_smooth        lat       long moving  time                  timestamp  \\\n",
       "0           0.0  44.615305 -88.039688  False     0  2015-06-28 11:36:16+00:00   \n",
       "\n",
       "            timestamp2  velocity_smooth  \n",
       "0  2015-06-28 11:36:16              0.0  "
      ]
     },
     "execution_count": 6,
     "metadata": {},
     "output_type": "execute_result"
    }
   ],
   "source": [
    "#Now lets bring in some new data to insert, along with the same old data\n",
    "df2 = pd.concat([pd.read_csv(r'C:\\Projects\\Strava\\RideData_20150628145227.csv'),\n",
    "               pd.read_csv(r'C:\\Projects\\Strava\\RideData_20150628145421.csv')])\n",
    "df2.head(1)"
   ]
  },
  {
   "cell_type": "code",
   "execution_count": 7,
   "metadata": {
    "collapsed": false
   },
   "outputs": [
    {
     "name": "stdout",
     "output_type": "stream",
     "text": [
      "new df is 11806 rows, and data in db is 11806 rows\n"
     ]
    }
   ],
   "source": [
    "#First let's get the length of both dataframe\n",
    "len_df2 = df2.shape[0]\n",
    "len_df_in_db = df_in_db.shape[0]\n",
    "print ('new df is %s rows, and data in db is %s rows') %(len_df2, len_df_in_db)"
   ]
  },
  {
   "cell_type": "code",
   "execution_count": null,
   "metadata": {
    "collapsed": false
   },
   "outputs": [],
   "source": [
    "#Now let's find out what rows are duplicates using a combination of full outer join and select where is not null\n",
    "df_all = pd.merge(df2, df_in_db, how='outer', on='act_id')\n",
    "print 'outer joined df is %s rows' %(df_all.shape[0])"
   ]
  },
  {
   "cell_type": "code",
   "execution_count": 22,
   "metadata": {
    "collapsed": false
   },
   "outputs": [
    {
     "data": {
      "text/plain": [
       "count     17709\n",
       "unique        1\n",
       "top       False\n",
       "freq      17709\n",
       "Name: distance, dtype: object"
      ]
     },
     "execution_count": 22,
     "metadata": {},
     "output_type": "execute_result"
    }
   ],
   "source": [
    "df_all['distance'].isnull().describe()"
   ]
  },
  {
   "cell_type": "code",
   "execution_count": 18,
   "metadata": {
    "collapsed": false
   },
   "outputs": [
    {
     "name": "stdout",
     "output_type": "stream",
     "text": [
      "17709\n"
     ]
    }
   ],
   "source": [
    "#now let's get rid of duplicate rows!\n",
    "df_all = df_all.dropna()\n",
    "print df_all.shape[0]"
   ]
  },
  {
   "cell_type": "code",
   "execution_count": null,
   "metadata": {
    "collapsed": true
   },
   "outputs": [],
   "source": []
  }
 ],
 "metadata": {
  "kernelspec": {
   "display_name": "Python 2",
   "language": "python",
   "name": "python2"
  },
  "language_info": {
   "codemirror_mode": {
    "name": "ipython",
    "version": 2
   },
   "file_extension": ".py",
   "mimetype": "text/x-python",
   "name": "python",
   "nbconvert_exporter": "python",
   "pygments_lexer": "ipython2",
   "version": "2.7.11"
  }
 },
 "nbformat": 4,
 "nbformat_minor": 0
}
