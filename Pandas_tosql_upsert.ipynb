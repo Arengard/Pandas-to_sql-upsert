{
 "cells": [
  {
   "cell_type": "code",
   "execution_count": 6,
   "metadata": {
    "collapsed": true
   },
   "outputs": [],
   "source": [
    "import os\n",
    "import pandas as pd\n",
    "import numpy as np\n",
    "from sqlalchemy import create_engine\n",
    "import sqlite3 as db"
   ]
  },
  {
   "cell_type": "code",
   "execution_count": 11,
   "metadata": {
    "collapsed": false
   },
   "outputs": [
    {
     "data": {
      "text/html": [
       "<div>\n",
       "<table border=\"1\" class=\"dataframe\">\n",
       "  <thead>\n",
       "    <tr style=\"text-align: right;\">\n",
       "      <th></th>\n",
       "      <th>act_startDate</th>\n",
       "      <th>timestamp</th>\n",
       "      <th>time</th>\n",
       "      <th>act_id</th>\n",
       "      <th>act_name</th>\n",
       "      <th>distance</th>\n",
       "      <th>altitude</th>\n",
       "      <th>velocity_smooth</th>\n",
       "      <th>moving</th>\n",
       "      <th>grade_smooth</th>\n",
       "      <th>timestamp2</th>\n",
       "      <th>lat</th>\n",
       "      <th>long</th>\n",
       "    </tr>\n",
       "  </thead>\n",
       "  <tbody>\n",
       "    <tr>\n",
       "      <th>0</th>\n",
       "      <td>2015-06-28 11:36:16</td>\n",
       "      <td>2015-06-28 11:36:16+00:00</td>\n",
       "      <td>0</td>\n",
       "      <td>334723309</td>\n",
       "      <td>Morning Ride</td>\n",
       "      <td>0.0</td>\n",
       "      <td>180.2</td>\n",
       "      <td>0.0</td>\n",
       "      <td>False</td>\n",
       "      <td>0.0</td>\n",
       "      <td>2015-06-28 11:36:16</td>\n",
       "      <td>44.615305</td>\n",
       "      <td>-88.039688</td>\n",
       "    </tr>\n",
       "  </tbody>\n",
       "</table>\n",
       "</div>"
      ],
      "text/plain": [
       "         act_startDate                  timestamp  time     act_id  \\\n",
       "0  2015-06-28 11:36:16  2015-06-28 11:36:16+00:00     0  334723309   \n",
       "\n",
       "       act_name  distance  altitude  velocity_smooth moving  grade_smooth  \\\n",
       "0  Morning Ride       0.0     180.2              0.0  False           0.0   \n",
       "\n",
       "            timestamp2        lat       long  \n",
       "0  2015-06-28 11:36:16  44.615305 -88.039688  "
      ]
     },
     "execution_count": 11,
     "metadata": {},
     "output_type": "execute_result"
    }
   ],
   "source": [
    "#Get sample data\n",
    "df = pd.read_csv(r'C:\\Projects\\Strava\\RideData_20150628145227.csv')\n",
    "df.head(1)"
   ]
  },
  {
   "cell_type": "code",
   "execution_count": 12,
   "metadata": {
    "collapsed": false
   },
   "outputs": [],
   "source": [
    "#Create our test database for upserts\n",
    "conn = db.connect('test_upsert.db')\n",
    "engine = create_engine(r'sqlite:///test_upsert.db')"
   ]
  },
  {
   "cell_type": "code",
   "execution_count": 13,
   "metadata": {
    "collapsed": true
   },
   "outputs": [],
   "source": [
    "#Create a table using pandas to_sql\n",
    "df.to_sql('test_upsert', engine, if_exists='append')"
   ]
  },
  {
   "cell_type": "code",
   "execution_count": 16,
   "metadata": {
    "collapsed": false
   },
   "outputs": [
    {
     "data": {
      "text/html": [
       "<div>\n",
       "<table border=\"1\" class=\"dataframe\">\n",
       "  <thead>\n",
       "    <tr style=\"text-align: right;\">\n",
       "      <th></th>\n",
       "      <th>index</th>\n",
       "      <th>act_startDate</th>\n",
       "      <th>timestamp</th>\n",
       "      <th>time</th>\n",
       "      <th>act_id</th>\n",
       "      <th>act_name</th>\n",
       "      <th>distance</th>\n",
       "      <th>altitude</th>\n",
       "      <th>velocity_smooth</th>\n",
       "      <th>moving</th>\n",
       "      <th>grade_smooth</th>\n",
       "      <th>timestamp2</th>\n",
       "      <th>lat</th>\n",
       "      <th>long</th>\n",
       "    </tr>\n",
       "  </thead>\n",
       "  <tbody>\n",
       "    <tr>\n",
       "      <th>0</th>\n",
       "      <td>0</td>\n",
       "      <td>2015-06-28 11:36:16</td>\n",
       "      <td>2015-06-28 11:36:16+00:00</td>\n",
       "      <td>0</td>\n",
       "      <td>334723309</td>\n",
       "      <td>Morning Ride</td>\n",
       "      <td>0.0</td>\n",
       "      <td>180.2</td>\n",
       "      <td>0.0</td>\n",
       "      <td>0</td>\n",
       "      <td>0.0</td>\n",
       "      <td>2015-06-28 11:36:16</td>\n",
       "      <td>44.615305</td>\n",
       "      <td>-88.039688</td>\n",
       "    </tr>\n",
       "  </tbody>\n",
       "</table>\n",
       "</div>"
      ],
      "text/plain": [
       "   index        act_startDate                  timestamp  time     act_id  \\\n",
       "0      0  2015-06-28 11:36:16  2015-06-28 11:36:16+00:00     0  334723309   \n",
       "\n",
       "       act_name  distance  altitude  velocity_smooth  moving  grade_smooth  \\\n",
       "0  Morning Ride       0.0     180.2              0.0       0           0.0   \n",
       "\n",
       "            timestamp2        lat       long  \n",
       "0  2015-06-28 11:36:16  44.615305 -88.039688  "
      ]
     },
     "execution_count": 16,
     "metadata": {},
     "output_type": "execute_result"
    }
   ],
   "source": [
    "#Check that the table exists and there is data in it\n",
    "df_in_db = pd.read_sql_query('SELECT * FROM test_upsert', engine)\n",
    "df_in_db.head(1)"
   ]
  },
  {
   "cell_type": "code",
   "execution_count": 19,
   "metadata": {
    "collapsed": false
   },
   "outputs": [
    {
     "data": {
      "text/html": [
       "<div>\n",
       "<table border=\"1\" class=\"dataframe\">\n",
       "  <thead>\n",
       "    <tr style=\"text-align: right;\">\n",
       "      <th></th>\n",
       "      <th>act_id</th>\n",
       "      <th>act_name</th>\n",
       "      <th>act_startDate</th>\n",
       "      <th>altitude</th>\n",
       "      <th>distance</th>\n",
       "      <th>grade_smooth</th>\n",
       "      <th>lat</th>\n",
       "      <th>long</th>\n",
       "      <th>moving</th>\n",
       "      <th>time</th>\n",
       "      <th>timestamp</th>\n",
       "      <th>timestamp2</th>\n",
       "      <th>velocity_smooth</th>\n",
       "    </tr>\n",
       "  </thead>\n",
       "  <tbody>\n",
       "    <tr>\n",
       "      <th>0</th>\n",
       "      <td>334723309</td>\n",
       "      <td>Morning Ride</td>\n",
       "      <td>2015-06-28 11:36:16</td>\n",
       "      <td>180.2</td>\n",
       "      <td>0.0</td>\n",
       "      <td>0.0</td>\n",
       "      <td>44.615305</td>\n",
       "      <td>-88.039688</td>\n",
       "      <td>False</td>\n",
       "      <td>0</td>\n",
       "      <td>2015-06-28 11:36:16+00:00</td>\n",
       "      <td>2015-06-28 11:36:16</td>\n",
       "      <td>0.0</td>\n",
       "    </tr>\n",
       "  </tbody>\n",
       "</table>\n",
       "</div>"
      ],
      "text/plain": [
       "      act_id      act_name        act_startDate  altitude  distance  \\\n",
       "0  334723309  Morning Ride  2015-06-28 11:36:16     180.2       0.0   \n",
       "\n",
       "   grade_smooth        lat       long moving  time                  timestamp  \\\n",
       "0           0.0  44.615305 -88.039688  False     0  2015-06-28 11:36:16+00:00   \n",
       "\n",
       "            timestamp2  velocity_smooth  \n",
       "0  2015-06-28 11:36:16              0.0  "
      ]
     },
     "execution_count": 19,
     "metadata": {},
     "output_type": "execute_result"
    }
   ],
   "source": [
    "#Now lets bring in some new data to insert, along with the same old data\n",
    "df2 = pd.concat([pd.read_csv(r'C:\\Projects\\Strava\\RideData_20150628145227.csv'),\n",
    "               pd.read_csv(r'C:\\Projects\\Strava\\RideData_20150628145421.csv')])\n",
    "df2.head(1)"
   ]
  },
  {
   "cell_type": "code",
   "execution_count": 22,
   "metadata": {
    "collapsed": false
   },
   "outputs": [
    {
     "name": "stdout",
     "output_type": "stream",
     "text": [
      "new df is 11806 rows, and data in db is 5903 rows\n"
     ]
    }
   ],
   "source": [
    "#First let's get the length of both dataframe\n",
    "len_df2 = df2.shape[0]\n",
    "len_df_in_db = df_in_db.shape[0]\n",
    "print ('new df is %s rows, and data in db is %s rows') %(len_df2, len_df_in_db)"
   ]
  },
  {
   "cell_type": "code",
   "execution_count": 24,
   "metadata": {
    "collapsed": false
   },
   "outputs": [
    {
     "data": {
      "text/html": [
       "<div>\n",
       "<table border=\"1\" class=\"dataframe\">\n",
       "  <thead>\n",
       "    <tr style=\"text-align: right;\">\n",
       "      <th></th>\n",
       "      <th>act_id</th>\n",
       "      <th>altitude</th>\n",
       "      <th>distance</th>\n",
       "      <th>grade_smooth</th>\n",
       "      <th>lat</th>\n",
       "      <th>long</th>\n",
       "      <th>time</th>\n",
       "      <th>velocity_smooth</th>\n",
       "      <th>index</th>\n",
       "    </tr>\n",
       "  </thead>\n",
       "  <tbody>\n",
       "    <tr>\n",
       "      <th>count</th>\n",
       "      <td>11806.0</td>\n",
       "      <td>11806.000000</td>\n",
       "      <td>11806.000000</td>\n",
       "      <td>11806.000000</td>\n",
       "      <td>11806.000000</td>\n",
       "      <td>11806.000000</td>\n",
       "      <td>11806.000000</td>\n",
       "      <td>11806.000000</td>\n",
       "      <td>5903.000000</td>\n",
       "    </tr>\n",
       "    <tr>\n",
       "      <th>mean</th>\n",
       "      <td>334723309.0</td>\n",
       "      <td>198.998577</td>\n",
       "      <td>22510.749907</td>\n",
       "      <td>0.106827</td>\n",
       "      <td>44.597998</td>\n",
       "      <td>-88.086968</td>\n",
       "      <td>3357.149077</td>\n",
       "      <td>7.784686</td>\n",
       "      <td>2951.000000</td>\n",
       "    </tr>\n",
       "    <tr>\n",
       "      <th>std</th>\n",
       "      <td>0.0</td>\n",
       "      <td>18.299093</td>\n",
       "      <td>13539.992780</td>\n",
       "      <td>2.353318</td>\n",
       "      <td>0.019859</td>\n",
       "      <td>0.039451</td>\n",
       "      <td>1775.176818</td>\n",
       "      <td>1.413113</td>\n",
       "      <td>1704.193651</td>\n",
       "    </tr>\n",
       "    <tr>\n",
       "      <th>min</th>\n",
       "      <td>334723309.0</td>\n",
       "      <td>176.700000</td>\n",
       "      <td>0.000000</td>\n",
       "      <td>-19.500000</td>\n",
       "      <td>44.572781</td>\n",
       "      <td>-88.150414</td>\n",
       "      <td>0.000000</td>\n",
       "      <td>0.000000</td>\n",
       "      <td>0.000000</td>\n",
       "    </tr>\n",
       "    <tr>\n",
       "      <th>25%</th>\n",
       "      <td>334723309.0</td>\n",
       "      <td>179.800000</td>\n",
       "      <td>10329.525000</td>\n",
       "      <td>-0.700000</td>\n",
       "      <td>44.583538</td>\n",
       "      <td>-88.119510</td>\n",
       "      <td>1831.250000</td>\n",
       "      <td>7.000000</td>\n",
       "      <td>1475.500000</td>\n",
       "    </tr>\n",
       "    <tr>\n",
       "      <th>50%</th>\n",
       "      <td>334723309.0</td>\n",
       "      <td>200.300000</td>\n",
       "      <td>22122.000000</td>\n",
       "      <td>0.000000</td>\n",
       "      <td>44.591711</td>\n",
       "      <td>-88.095911</td>\n",
       "      <td>3307.000000</td>\n",
       "      <td>7.800000</td>\n",
       "      <td>2951.000000</td>\n",
       "    </tr>\n",
       "    <tr>\n",
       "      <th>75%</th>\n",
       "      <td>334723309.0</td>\n",
       "      <td>215.900000</td>\n",
       "      <td>34199.150000</td>\n",
       "      <td>0.700000</td>\n",
       "      <td>44.611576</td>\n",
       "      <td>-88.041069</td>\n",
       "      <td>4909.750000</td>\n",
       "      <td>8.500000</td>\n",
       "      <td>4426.500000</td>\n",
       "    </tr>\n",
       "    <tr>\n",
       "      <th>max</th>\n",
       "      <td>334723309.0</td>\n",
       "      <td>235.500000</td>\n",
       "      <td>46258.200000</td>\n",
       "      <td>22.500000</td>\n",
       "      <td>44.643393</td>\n",
       "      <td>-88.015313</td>\n",
       "      <td>6545.000000</td>\n",
       "      <td>12.900000</td>\n",
       "      <td>5902.000000</td>\n",
       "    </tr>\n",
       "  </tbody>\n",
       "</table>\n",
       "</div>"
      ],
      "text/plain": [
       "            act_id      altitude      distance  grade_smooth           lat  \\\n",
       "count      11806.0  11806.000000  11806.000000  11806.000000  11806.000000   \n",
       "mean   334723309.0    198.998577  22510.749907      0.106827     44.597998   \n",
       "std            0.0     18.299093  13539.992780      2.353318      0.019859   \n",
       "min    334723309.0    176.700000      0.000000    -19.500000     44.572781   \n",
       "25%    334723309.0    179.800000  10329.525000     -0.700000     44.583538   \n",
       "50%    334723309.0    200.300000  22122.000000      0.000000     44.591711   \n",
       "75%    334723309.0    215.900000  34199.150000      0.700000     44.611576   \n",
       "max    334723309.0    235.500000  46258.200000     22.500000     44.643393   \n",
       "\n",
       "               long          time  velocity_smooth        index  \n",
       "count  11806.000000  11806.000000     11806.000000  5903.000000  \n",
       "mean     -88.086968   3357.149077         7.784686  2951.000000  \n",
       "std        0.039451   1775.176818         1.413113  1704.193651  \n",
       "min      -88.150414      0.000000         0.000000     0.000000  \n",
       "25%      -88.119510   1831.250000         7.000000  1475.500000  \n",
       "50%      -88.095911   3307.000000         7.800000  2951.000000  \n",
       "75%      -88.041069   4909.750000         8.500000  4426.500000  \n",
       "max      -88.015313   6545.000000        12.900000  5902.000000  "
      ]
     },
     "execution_count": 24,
     "metadata": {},
     "output_type": "execute_result"
    }
   ],
   "source": [
    "#Now let's find out what rows are duplicates using a combination of full outer join and select where is not null\n",
    "df_all = pd.merge(df2, df_in_db, how='outer')\n",
    "df_all.describe()"
   ]
  },
  {
   "cell_type": "code",
   "execution_count": null,
   "metadata": {
    "collapsed": true
   },
   "outputs": [],
   "source": []
  }
 ],
 "metadata": {
  "kernelspec": {
   "display_name": "Python 2",
   "language": "python",
   "name": "python2"
  },
  "language_info": {
   "codemirror_mode": {
    "name": "ipython",
    "version": 2
   },
   "file_extension": ".py",
   "mimetype": "text/x-python",
   "name": "python",
   "nbconvert_exporter": "python",
   "pygments_lexer": "ipython2",
   "version": "2.7.11"
  }
 },
 "nbformat": 4,
 "nbformat_minor": 0
}
